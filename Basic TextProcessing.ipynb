{
  "nbformat": 4,
  "nbformat_minor": 0,
  "metadata": {
    "colab": {
      "provenance": []
    },
    "kernelspec": {
      "name": "python3",
      "display_name": "Python 3"
    },
    "language_info": {
      "name": "python"
    }
  },
  "cells": [
    {
      "cell_type": "markdown",
      "source": [
        "# Import package"
      ],
      "metadata": {
        "id": "YiRosCX-457b"
      }
    },
    {
      "cell_type": "code",
      "execution_count": 1,
      "metadata": {
        "colab": {
          "base_uri": "https://localhost:8080/"
        },
        "id": "mFyd8eNF3TMr",
        "outputId": "0df9b701-1222-4ec7-9e58-fafacb1d932b"
      },
      "outputs": [
        {
          "output_type": "stream",
          "name": "stderr",
          "text": [
            "[nltk_data] Downloading package stopwords to /root/nltk_data...\n",
            "[nltk_data]   Unzipping corpora/stopwords.zip.\n",
            "[nltk_data] Downloading package punkt to /root/nltk_data...\n",
            "[nltk_data]   Unzipping tokenizers/punkt.zip.\n"
          ]
        },
        {
          "output_type": "execute_result",
          "data": {
            "text/plain": [
              "True"
            ]
          },
          "metadata": {},
          "execution_count": 1
        }
      ],
      "source": [
        "import nltk\n",
        "nltk.download('stopwords')\n",
        "nltk.download('punkt')"
      ]
    },
    {
      "cell_type": "code",
      "source": [
        "from nltk.tokenize import word_tokenize, sent_tokenize\n",
        "from string import punctuation\n",
        "from nltk.corpus import stopwords"
      ],
      "metadata": {
        "id": "mxITv4WF5AkT"
      },
      "execution_count": 2,
      "outputs": []
    },
    {
      "cell_type": "markdown",
      "source": [
        "# Normalizing data"
      ],
      "metadata": {
        "id": "JaZ4zRE95TA4"
      }
    },
    {
      "cell_type": "code",
      "source": [
        "teks = 'Halo, nama saya Ridwan. Saya ingin makan bakso harganya 25.000, saya akan makan nanti sore, apakah kamu mau ikut?'"
      ],
      "metadata": {
        "id": "2vrjft8J5bzz"
      },
      "execution_count": 5,
      "outputs": []
    },
    {
      "cell_type": "code",
      "source": [
        "teks.lower()"
      ],
      "metadata": {
        "colab": {
          "base_uri": "https://localhost:8080/",
          "height": 35
        },
        "id": "HuBLEg755Qo8",
        "outputId": "50ee3b5d-8f48-4214-c940-7416f8610745"
      },
      "execution_count": 6,
      "outputs": [
        {
          "output_type": "execute_result",
          "data": {
            "text/plain": [
              "'halo, nama saya ridwan. saya ingin makan bakso harganya 25.000, saya akan makan nanti sore, apakah kamu mau ikut?'"
            ],
            "application/vnd.google.colaboratory.intrinsic+json": {
              "type": "string"
            }
          },
          "metadata": {},
          "execution_count": 6
        }
      ]
    },
    {
      "cell_type": "markdown",
      "source": [
        "# Tokenizing string"
      ],
      "metadata": {
        "id": "YV5mR9Zq5zHE"
      }
    },
    {
      "cell_type": "code",
      "source": [
        "sent_tokenize(teks)"
      ],
      "metadata": {
        "colab": {
          "base_uri": "https://localhost:8080/"
        },
        "id": "xAtZyDGI5sSH",
        "outputId": "37576c7f-db10-4f8c-f790-b75792e37b63"
      },
      "execution_count": 7,
      "outputs": [
        {
          "output_type": "execute_result",
          "data": {
            "text/plain": [
              "['Halo, nama saya Ridwan.',\n",
              " 'Saya ingin makan bakso harganya 25.000, saya akan makan nanti sore, apakah kamu mau ikut?']"
            ]
          },
          "metadata": {},
          "execution_count": 7
        }
      ]
    },
    {
      "cell_type": "code",
      "source": [
        "teks.split('.')"
      ],
      "metadata": {
        "colab": {
          "base_uri": "https://localhost:8080/"
        },
        "id": "pxliBNxr6b9h",
        "outputId": "dcd42e2e-9aab-4fd3-a567-4bc7069b9605"
      },
      "execution_count": 8,
      "outputs": [
        {
          "output_type": "execute_result",
          "data": {
            "text/plain": [
              "['Halo, nama saya Ridwan',\n",
              " ' Saya ingin makan bakso harganya 25',\n",
              " '000, saya akan makan nanti sore, apakah kamu mau ikut?']"
            ]
          },
          "metadata": {},
          "execution_count": 8
        }
      ]
    },
    {
      "cell_type": "code",
      "source": [
        "word_tokenize(teks)"
      ],
      "metadata": {
        "colab": {
          "base_uri": "https://localhost:8080/"
        },
        "id": "62mxdL4I6kIr",
        "outputId": "1fb8ae4b-78e6-4d11-8034-4702491fd316"
      },
      "execution_count": 9,
      "outputs": [
        {
          "output_type": "execute_result",
          "data": {
            "text/plain": [
              "['Halo',\n",
              " ',',\n",
              " 'nama',\n",
              " 'saya',\n",
              " 'Ridwan',\n",
              " '.',\n",
              " 'Saya',\n",
              " 'ingin',\n",
              " 'makan',\n",
              " 'bakso',\n",
              " 'harganya',\n",
              " '25.000',\n",
              " ',',\n",
              " 'saya',\n",
              " 'akan',\n",
              " 'makan',\n",
              " 'nanti',\n",
              " 'sore',\n",
              " ',',\n",
              " 'apakah',\n",
              " 'kamu',\n",
              " 'mau',\n",
              " 'ikut',\n",
              " '?']"
            ]
          },
          "metadata": {},
          "execution_count": 9
        }
      ]
    },
    {
      "cell_type": "code",
      "source": [
        "import re"
      ],
      "metadata": {
        "id": "t2_Sxnyk6w6c"
      },
      "execution_count": 10,
      "outputs": []
    },
    {
      "cell_type": "code",
      "source": [
        "tokens = re.findall(r'\\w+|[^\\w\\s]', teks)\n",
        "print(tokens)"
      ],
      "metadata": {
        "colab": {
          "base_uri": "https://localhost:8080/"
        },
        "id": "VADHDMKp7A9L",
        "outputId": "e711b8c7-d1e2-47be-f291-a8416a731aa8"
      },
      "execution_count": 13,
      "outputs": [
        {
          "output_type": "stream",
          "name": "stdout",
          "text": [
            "['Halo', ',', 'nama', 'saya', 'Ridwan', '.', 'Saya', 'ingin', 'makan', 'bakso', 'harganya', '25', '.', '000', ',', 'saya', 'akan', 'makan', 'nanti', 'sore', ',', 'apakah', 'kamu', 'mau', 'ikut', '?']\n"
          ]
        }
      ]
    },
    {
      "cell_type": "markdown",
      "source": [
        "# Punctuation removal n alphanumeric cleansing"
      ],
      "metadata": {
        "id": "jS0uHrVl7yRk"
      }
    },
    {
      "cell_type": "code",
      "source": [
        "punctuation"
      ],
      "metadata": {
        "colab": {
          "base_uri": "https://localhost:8080/",
          "height": 35
        },
        "id": "nemRoUVf7NZG",
        "outputId": "dd4ac463-fcf2-465c-d97a-836e078e32be"
      },
      "execution_count": 14,
      "outputs": [
        {
          "output_type": "execute_result",
          "data": {
            "text/plain": [
              "'!\"#$%&\\'()*+,-./:;<=>?@[\\\\]^_`{|}~'"
            ],
            "application/vnd.google.colaboratory.intrinsic+json": {
              "type": "string"
            }
          },
          "metadata": {},
          "execution_count": 14
        }
      ]
    },
    {
      "cell_type": "code",
      "source": [
        "tokens = [token for token in tokens if token not in punctuation]"
      ],
      "metadata": {
        "id": "ftqnd74179ty"
      },
      "execution_count": 15,
      "outputs": []
    },
    {
      "cell_type": "code",
      "source": [
        "tokens"
      ],
      "metadata": {
        "colab": {
          "base_uri": "https://localhost:8080/"
        },
        "id": "RGtn98mf8Qz3",
        "outputId": "8695ce33-8d56-4d95-8577-75fa539f0aee"
      },
      "execution_count": 16,
      "outputs": [
        {
          "output_type": "execute_result",
          "data": {
            "text/plain": [
              "['Halo',\n",
              " 'nama',\n",
              " 'saya',\n",
              " 'Ridwan',\n",
              " 'Saya',\n",
              " 'ingin',\n",
              " 'makan',\n",
              " 'bakso',\n",
              " 'harganya',\n",
              " '25',\n",
              " '000',\n",
              " 'saya',\n",
              " 'akan',\n",
              " 'makan',\n",
              " 'nanti',\n",
              " 'sore',\n",
              " 'apakah',\n",
              " 'kamu',\n",
              " 'mau',\n",
              " 'ikut']"
            ]
          },
          "metadata": {},
          "execution_count": 16
        }
      ]
    },
    {
      "cell_type": "code",
      "source": [
        "tokens = [token for token in tokens if token.isalnum()]\n",
        "tokens"
      ],
      "metadata": {
        "colab": {
          "base_uri": "https://localhost:8080/"
        },
        "id": "tD_kphF08SYR",
        "outputId": "5154784e-0bfe-4bd1-9826-d16d7b70bbba"
      },
      "execution_count": 18,
      "outputs": [
        {
          "output_type": "execute_result",
          "data": {
            "text/plain": [
              "['Halo',\n",
              " 'nama',\n",
              " 'saya',\n",
              " 'Ridwan',\n",
              " 'Saya',\n",
              " 'ingin',\n",
              " 'makan',\n",
              " 'bakso',\n",
              " 'harganya',\n",
              " '25',\n",
              " '000',\n",
              " 'saya',\n",
              " 'akan',\n",
              " 'makan',\n",
              " 'nanti',\n",
              " 'sore',\n",
              " 'apakah',\n",
              " 'kamu',\n",
              " 'mau',\n",
              " 'ikut']"
            ]
          },
          "metadata": {},
          "execution_count": 18
        }
      ]
    },
    {
      "cell_type": "markdown",
      "source": [
        "# Stopwords removal"
      ],
      "metadata": {
        "id": "g8KuBMjq9Gcs"
      }
    },
    {
      "cell_type": "code",
      "source": [
        "stopwords.words('indonesian')"
      ],
      "metadata": {
        "colab": {
          "base_uri": "https://localhost:8080/"
        },
        "id": "3HsPN-hA8hlL",
        "outputId": "b1d44b02-bfb1-44e8-d99f-5c038ade7669"
      },
      "execution_count": 19,
      "outputs": [
        {
          "output_type": "execute_result",
          "data": {
            "text/plain": [
              "['ada',\n",
              " 'adalah',\n",
              " 'adanya',\n",
              " 'adapun',\n",
              " 'agak',\n",
              " 'agaknya',\n",
              " 'agar',\n",
              " 'akan',\n",
              " 'akankah',\n",
              " 'akhir',\n",
              " 'akhiri',\n",
              " 'akhirnya',\n",
              " 'aku',\n",
              " 'akulah',\n",
              " 'amat',\n",
              " 'amatlah',\n",
              " 'anda',\n",
              " 'andalah',\n",
              " 'antar',\n",
              " 'antara',\n",
              " 'antaranya',\n",
              " 'apa',\n",
              " 'apaan',\n",
              " 'apabila',\n",
              " 'apakah',\n",
              " 'apalagi',\n",
              " 'apatah',\n",
              " 'artinya',\n",
              " 'asal',\n",
              " 'asalkan',\n",
              " 'atas',\n",
              " 'atau',\n",
              " 'ataukah',\n",
              " 'ataupun',\n",
              " 'awal',\n",
              " 'awalnya',\n",
              " 'bagai',\n",
              " 'bagaikan',\n",
              " 'bagaimana',\n",
              " 'bagaimanakah',\n",
              " 'bagaimanapun',\n",
              " 'bagi',\n",
              " 'bagian',\n",
              " 'bahkan',\n",
              " 'bahwa',\n",
              " 'bahwasanya',\n",
              " 'baik',\n",
              " 'bakal',\n",
              " 'bakalan',\n",
              " 'balik',\n",
              " 'banyak',\n",
              " 'bapak',\n",
              " 'baru',\n",
              " 'bawah',\n",
              " 'beberapa',\n",
              " 'begini',\n",
              " 'beginian',\n",
              " 'beginikah',\n",
              " 'beginilah',\n",
              " 'begitu',\n",
              " 'begitukah',\n",
              " 'begitulah',\n",
              " 'begitupun',\n",
              " 'bekerja',\n",
              " 'belakang',\n",
              " 'belakangan',\n",
              " 'belum',\n",
              " 'belumlah',\n",
              " 'benar',\n",
              " 'benarkah',\n",
              " 'benarlah',\n",
              " 'berada',\n",
              " 'berakhir',\n",
              " 'berakhirlah',\n",
              " 'berakhirnya',\n",
              " 'berapa',\n",
              " 'berapakah',\n",
              " 'berapalah',\n",
              " 'berapapun',\n",
              " 'berarti',\n",
              " 'berawal',\n",
              " 'berbagai',\n",
              " 'berdatangan',\n",
              " 'beri',\n",
              " 'berikan',\n",
              " 'berikut',\n",
              " 'berikutnya',\n",
              " 'berjumlah',\n",
              " 'berkali-kali',\n",
              " 'berkata',\n",
              " 'berkehendak',\n",
              " 'berkeinginan',\n",
              " 'berkenaan',\n",
              " 'berlainan',\n",
              " 'berlalu',\n",
              " 'berlangsung',\n",
              " 'berlebihan',\n",
              " 'bermacam',\n",
              " 'bermacam-macam',\n",
              " 'bermaksud',\n",
              " 'bermula',\n",
              " 'bersama',\n",
              " 'bersama-sama',\n",
              " 'bersiap',\n",
              " 'bersiap-siap',\n",
              " 'bertanya',\n",
              " 'bertanya-tanya',\n",
              " 'berturut',\n",
              " 'berturut-turut',\n",
              " 'bertutur',\n",
              " 'berujar',\n",
              " 'berupa',\n",
              " 'besar',\n",
              " 'betul',\n",
              " 'betulkah',\n",
              " 'biasa',\n",
              " 'biasanya',\n",
              " 'bila',\n",
              " 'bilakah',\n",
              " 'bisa',\n",
              " 'bisakah',\n",
              " 'boleh',\n",
              " 'bolehkah',\n",
              " 'bolehlah',\n",
              " 'buat',\n",
              " 'bukan',\n",
              " 'bukankah',\n",
              " 'bukanlah',\n",
              " 'bukannya',\n",
              " 'bulan',\n",
              " 'bung',\n",
              " 'cara',\n",
              " 'caranya',\n",
              " 'cukup',\n",
              " 'cukupkah',\n",
              " 'cukuplah',\n",
              " 'cuma',\n",
              " 'dahulu',\n",
              " 'dalam',\n",
              " 'dan',\n",
              " 'dapat',\n",
              " 'dari',\n",
              " 'daripada',\n",
              " 'datang',\n",
              " 'dekat',\n",
              " 'demi',\n",
              " 'demikian',\n",
              " 'demikianlah',\n",
              " 'dengan',\n",
              " 'depan',\n",
              " 'di',\n",
              " 'dia',\n",
              " 'diakhiri',\n",
              " 'diakhirinya',\n",
              " 'dialah',\n",
              " 'diantara',\n",
              " 'diantaranya',\n",
              " 'diberi',\n",
              " 'diberikan',\n",
              " 'diberikannya',\n",
              " 'dibuat',\n",
              " 'dibuatnya',\n",
              " 'didapat',\n",
              " 'didatangkan',\n",
              " 'digunakan',\n",
              " 'diibaratkan',\n",
              " 'diibaratkannya',\n",
              " 'diingat',\n",
              " 'diingatkan',\n",
              " 'diinginkan',\n",
              " 'dijawab',\n",
              " 'dijelaskan',\n",
              " 'dijelaskannya',\n",
              " 'dikarenakan',\n",
              " 'dikatakan',\n",
              " 'dikatakannya',\n",
              " 'dikerjakan',\n",
              " 'diketahui',\n",
              " 'diketahuinya',\n",
              " 'dikira',\n",
              " 'dilakukan',\n",
              " 'dilalui',\n",
              " 'dilihat',\n",
              " 'dimaksud',\n",
              " 'dimaksudkan',\n",
              " 'dimaksudkannya',\n",
              " 'dimaksudnya',\n",
              " 'diminta',\n",
              " 'dimintai',\n",
              " 'dimisalkan',\n",
              " 'dimulai',\n",
              " 'dimulailah',\n",
              " 'dimulainya',\n",
              " 'dimungkinkan',\n",
              " 'dini',\n",
              " 'dipastikan',\n",
              " 'diperbuat',\n",
              " 'diperbuatnya',\n",
              " 'dipergunakan',\n",
              " 'diperkirakan',\n",
              " 'diperlihatkan',\n",
              " 'diperlukan',\n",
              " 'diperlukannya',\n",
              " 'dipersoalkan',\n",
              " 'dipertanyakan',\n",
              " 'dipunyai',\n",
              " 'diri',\n",
              " 'dirinya',\n",
              " 'disampaikan',\n",
              " 'disebut',\n",
              " 'disebutkan',\n",
              " 'disebutkannya',\n",
              " 'disini',\n",
              " 'disinilah',\n",
              " 'ditambahkan',\n",
              " 'ditandaskan',\n",
              " 'ditanya',\n",
              " 'ditanyai',\n",
              " 'ditanyakan',\n",
              " 'ditegaskan',\n",
              " 'ditujukan',\n",
              " 'ditunjuk',\n",
              " 'ditunjuki',\n",
              " 'ditunjukkan',\n",
              " 'ditunjukkannya',\n",
              " 'ditunjuknya',\n",
              " 'dituturkan',\n",
              " 'dituturkannya',\n",
              " 'diucapkan',\n",
              " 'diucapkannya',\n",
              " 'diungkapkan',\n",
              " 'dong',\n",
              " 'dua',\n",
              " 'dulu',\n",
              " 'empat',\n",
              " 'enggak',\n",
              " 'enggaknya',\n",
              " 'entah',\n",
              " 'entahlah',\n",
              " 'guna',\n",
              " 'gunakan',\n",
              " 'hal',\n",
              " 'hampir',\n",
              " 'hanya',\n",
              " 'hanyalah',\n",
              " 'hari',\n",
              " 'harus',\n",
              " 'haruslah',\n",
              " 'harusnya',\n",
              " 'hendak',\n",
              " 'hendaklah',\n",
              " 'hendaknya',\n",
              " 'hingga',\n",
              " 'ia',\n",
              " 'ialah',\n",
              " 'ibarat',\n",
              " 'ibaratkan',\n",
              " 'ibaratnya',\n",
              " 'ibu',\n",
              " 'ikut',\n",
              " 'ingat',\n",
              " 'ingat-ingat',\n",
              " 'ingin',\n",
              " 'inginkah',\n",
              " 'inginkan',\n",
              " 'ini',\n",
              " 'inikah',\n",
              " 'inilah',\n",
              " 'itu',\n",
              " 'itukah',\n",
              " 'itulah',\n",
              " 'jadi',\n",
              " 'jadilah',\n",
              " 'jadinya',\n",
              " 'jangan',\n",
              " 'jangankan',\n",
              " 'janganlah',\n",
              " 'jauh',\n",
              " 'jawab',\n",
              " 'jawaban',\n",
              " 'jawabnya',\n",
              " 'jelas',\n",
              " 'jelaskan',\n",
              " 'jelaslah',\n",
              " 'jelasnya',\n",
              " 'jika',\n",
              " 'jikalau',\n",
              " 'juga',\n",
              " 'jumlah',\n",
              " 'jumlahnya',\n",
              " 'justru',\n",
              " 'kala',\n",
              " 'kalau',\n",
              " 'kalaulah',\n",
              " 'kalaupun',\n",
              " 'kalian',\n",
              " 'kami',\n",
              " 'kamilah',\n",
              " 'kamu',\n",
              " 'kamulah',\n",
              " 'kan',\n",
              " 'kapan',\n",
              " 'kapankah',\n",
              " 'kapanpun',\n",
              " 'karena',\n",
              " 'karenanya',\n",
              " 'kasus',\n",
              " 'kata',\n",
              " 'katakan',\n",
              " 'katakanlah',\n",
              " 'katanya',\n",
              " 'ke',\n",
              " 'keadaan',\n",
              " 'kebetulan',\n",
              " 'kecil',\n",
              " 'kedua',\n",
              " 'keduanya',\n",
              " 'keinginan',\n",
              " 'kelamaan',\n",
              " 'kelihatan',\n",
              " 'kelihatannya',\n",
              " 'kelima',\n",
              " 'keluar',\n",
              " 'kembali',\n",
              " 'kemudian',\n",
              " 'kemungkinan',\n",
              " 'kemungkinannya',\n",
              " 'kenapa',\n",
              " 'kepada',\n",
              " 'kepadanya',\n",
              " 'kesampaian',\n",
              " 'keseluruhan',\n",
              " 'keseluruhannya',\n",
              " 'keterlaluan',\n",
              " 'ketika',\n",
              " 'khususnya',\n",
              " 'kini',\n",
              " 'kinilah',\n",
              " 'kira',\n",
              " 'kira-kira',\n",
              " 'kiranya',\n",
              " 'kita',\n",
              " 'kitalah',\n",
              " 'kok',\n",
              " 'kurang',\n",
              " 'lagi',\n",
              " 'lagian',\n",
              " 'lah',\n",
              " 'lain',\n",
              " 'lainnya',\n",
              " 'lalu',\n",
              " 'lama',\n",
              " 'lamanya',\n",
              " 'lanjut',\n",
              " 'lanjutnya',\n",
              " 'lebih',\n",
              " 'lewat',\n",
              " 'lima',\n",
              " 'luar',\n",
              " 'macam',\n",
              " 'maka',\n",
              " 'makanya',\n",
              " 'makin',\n",
              " 'malah',\n",
              " 'malahan',\n",
              " 'mampu',\n",
              " 'mampukah',\n",
              " 'mana',\n",
              " 'manakala',\n",
              " 'manalagi',\n",
              " 'masa',\n",
              " 'masalah',\n",
              " 'masalahnya',\n",
              " 'masih',\n",
              " 'masihkah',\n",
              " 'masing',\n",
              " 'masing-masing',\n",
              " 'mau',\n",
              " 'maupun',\n",
              " 'melainkan',\n",
              " 'melakukan',\n",
              " 'melalui',\n",
              " 'melihat',\n",
              " 'melihatnya',\n",
              " 'memang',\n",
              " 'memastikan',\n",
              " 'memberi',\n",
              " 'memberikan',\n",
              " 'membuat',\n",
              " 'memerlukan',\n",
              " 'memihak',\n",
              " 'meminta',\n",
              " 'memintakan',\n",
              " 'memisalkan',\n",
              " 'memperbuat',\n",
              " 'mempergunakan',\n",
              " 'memperkirakan',\n",
              " 'memperlihatkan',\n",
              " 'mempersiapkan',\n",
              " 'mempersoalkan',\n",
              " 'mempertanyakan',\n",
              " 'mempunyai',\n",
              " 'memulai',\n",
              " 'memungkinkan',\n",
              " 'menaiki',\n",
              " 'menambahkan',\n",
              " 'menandaskan',\n",
              " 'menanti',\n",
              " 'menanti-nanti',\n",
              " 'menantikan',\n",
              " 'menanya',\n",
              " 'menanyai',\n",
              " 'menanyakan',\n",
              " 'mendapat',\n",
              " 'mendapatkan',\n",
              " 'mendatang',\n",
              " 'mendatangi',\n",
              " 'mendatangkan',\n",
              " 'menegaskan',\n",
              " 'mengakhiri',\n",
              " 'mengapa',\n",
              " 'mengatakan',\n",
              " 'mengatakannya',\n",
              " 'mengenai',\n",
              " 'mengerjakan',\n",
              " 'mengetahui',\n",
              " 'menggunakan',\n",
              " 'menghendaki',\n",
              " 'mengibaratkan',\n",
              " 'mengibaratkannya',\n",
              " 'mengingat',\n",
              " 'mengingatkan',\n",
              " 'menginginkan',\n",
              " 'mengira',\n",
              " 'mengucapkan',\n",
              " 'mengucapkannya',\n",
              " 'mengungkapkan',\n",
              " 'menjadi',\n",
              " 'menjawab',\n",
              " 'menjelaskan',\n",
              " 'menuju',\n",
              " 'menunjuk',\n",
              " 'menunjuki',\n",
              " 'menunjukkan',\n",
              " 'menunjuknya',\n",
              " 'menurut',\n",
              " 'menuturkan',\n",
              " 'menyampaikan',\n",
              " 'menyangkut',\n",
              " 'menyatakan',\n",
              " 'menyebutkan',\n",
              " 'menyeluruh',\n",
              " 'menyiapkan',\n",
              " 'merasa',\n",
              " 'mereka',\n",
              " 'merekalah',\n",
              " 'merupakan',\n",
              " 'meski',\n",
              " 'meskipun',\n",
              " 'meyakini',\n",
              " 'meyakinkan',\n",
              " 'minta',\n",
              " 'mirip',\n",
              " 'misal',\n",
              " 'misalkan',\n",
              " 'misalnya',\n",
              " 'mula',\n",
              " 'mulai',\n",
              " 'mulailah',\n",
              " 'mulanya',\n",
              " 'mungkin',\n",
              " 'mungkinkah',\n",
              " 'nah',\n",
              " 'naik',\n",
              " 'namun',\n",
              " 'nanti',\n",
              " 'nantinya',\n",
              " 'nyaris',\n",
              " 'nyatanya',\n",
              " 'oleh',\n",
              " 'olehnya',\n",
              " 'pada',\n",
              " 'padahal',\n",
              " 'padanya',\n",
              " 'pak',\n",
              " 'paling',\n",
              " 'panjang',\n",
              " 'pantas',\n",
              " 'para',\n",
              " 'pasti',\n",
              " 'pastilah',\n",
              " 'penting',\n",
              " 'pentingnya',\n",
              " 'per',\n",
              " 'percuma',\n",
              " 'perlu',\n",
              " 'perlukah',\n",
              " 'perlunya',\n",
              " 'pernah',\n",
              " 'persoalan',\n",
              " 'pertama',\n",
              " 'pertama-tama',\n",
              " 'pertanyaan',\n",
              " 'pertanyakan',\n",
              " 'pihak',\n",
              " 'pihaknya',\n",
              " 'pukul',\n",
              " 'pula',\n",
              " 'pun',\n",
              " 'punya',\n",
              " 'rasa',\n",
              " 'rasanya',\n",
              " 'rata',\n",
              " 'rupanya',\n",
              " 'saat',\n",
              " 'saatnya',\n",
              " 'saja',\n",
              " 'sajalah',\n",
              " 'saling',\n",
              " 'sama',\n",
              " 'sama-sama',\n",
              " 'sambil',\n",
              " 'sampai',\n",
              " 'sampai-sampai',\n",
              " 'sampaikan',\n",
              " 'sana',\n",
              " 'sangat',\n",
              " 'sangatlah',\n",
              " 'satu',\n",
              " 'saya',\n",
              " 'sayalah',\n",
              " 'se',\n",
              " 'sebab',\n",
              " 'sebabnya',\n",
              " 'sebagai',\n",
              " 'sebagaimana',\n",
              " 'sebagainya',\n",
              " 'sebagian',\n",
              " 'sebaik',\n",
              " 'sebaik-baiknya',\n",
              " 'sebaiknya',\n",
              " 'sebaliknya',\n",
              " 'sebanyak',\n",
              " 'sebegini',\n",
              " 'sebegitu',\n",
              " 'sebelum',\n",
              " 'sebelumnya',\n",
              " 'sebenarnya',\n",
              " 'seberapa',\n",
              " 'sebesar',\n",
              " 'sebetulnya',\n",
              " 'sebisanya',\n",
              " 'sebuah',\n",
              " 'sebut',\n",
              " 'sebutlah',\n",
              " 'sebutnya',\n",
              " 'secara',\n",
              " 'secukupnya',\n",
              " 'sedang',\n",
              " 'sedangkan',\n",
              " 'sedemikian',\n",
              " 'sedikit',\n",
              " 'sedikitnya',\n",
              " 'seenaknya',\n",
              " 'segala',\n",
              " 'segalanya',\n",
              " 'segera',\n",
              " 'seharusnya',\n",
              " 'sehingga',\n",
              " 'seingat',\n",
              " 'sejak',\n",
              " 'sejauh',\n",
              " 'sejenak',\n",
              " 'sejumlah',\n",
              " 'sekadar',\n",
              " 'sekadarnya',\n",
              " 'sekali',\n",
              " 'sekali-kali',\n",
              " 'sekalian',\n",
              " 'sekaligus',\n",
              " 'sekalipun',\n",
              " 'sekarang',\n",
              " 'sekarang',\n",
              " 'sekecil',\n",
              " 'seketika',\n",
              " 'sekiranya',\n",
              " 'sekitar',\n",
              " 'sekitarnya',\n",
              " 'sekurang-kurangnya',\n",
              " 'sekurangnya',\n",
              " 'sela',\n",
              " 'selain',\n",
              " 'selaku',\n",
              " 'selalu',\n",
              " 'selama',\n",
              " 'selama-lamanya',\n",
              " 'selamanya',\n",
              " 'selanjutnya',\n",
              " 'seluruh',\n",
              " 'seluruhnya',\n",
              " 'semacam',\n",
              " 'semakin',\n",
              " 'semampu',\n",
              " 'semampunya',\n",
              " 'semasa',\n",
              " 'semasih',\n",
              " 'semata',\n",
              " 'semata-mata',\n",
              " 'semaunya',\n",
              " 'sementara',\n",
              " 'semisal',\n",
              " 'semisalnya',\n",
              " 'sempat',\n",
              " 'semua',\n",
              " 'semuanya',\n",
              " 'semula',\n",
              " 'sendiri',\n",
              " 'sendirian',\n",
              " 'sendirinya',\n",
              " 'seolah',\n",
              " 'seolah-olah',\n",
              " 'seorang',\n",
              " 'sepanjang',\n",
              " 'sepantasnya',\n",
              " 'sepantasnyalah',\n",
              " 'seperlunya',\n",
              " 'seperti',\n",
              " 'sepertinya',\n",
              " 'sepihak',\n",
              " 'sering',\n",
              " 'seringnya',\n",
              " 'serta',\n",
              " 'serupa',\n",
              " 'sesaat',\n",
              " 'sesama',\n",
              " 'sesampai',\n",
              " 'sesegera',\n",
              " 'sesekali',\n",
              " 'seseorang',\n",
              " 'sesuatu',\n",
              " 'sesuatunya',\n",
              " 'sesudah',\n",
              " 'sesudahnya',\n",
              " 'setelah',\n",
              " 'setempat',\n",
              " 'setengah',\n",
              " 'seterusnya',\n",
              " 'setiap',\n",
              " 'setiba',\n",
              " 'setibanya',\n",
              " 'setidak-tidaknya',\n",
              " 'setidaknya',\n",
              " 'setinggi',\n",
              " 'seusai',\n",
              " 'sewaktu',\n",
              " 'siap',\n",
              " 'siapa',\n",
              " 'siapakah',\n",
              " 'siapapun',\n",
              " 'sini',\n",
              " 'sinilah',\n",
              " 'soal',\n",
              " 'soalnya',\n",
              " 'suatu',\n",
              " 'sudah',\n",
              " 'sudahkah',\n",
              " 'sudahlah',\n",
              " 'supaya',\n",
              " 'tadi',\n",
              " 'tadinya',\n",
              " 'tahu',\n",
              " 'tahun',\n",
              " 'tak',\n",
              " 'tambah',\n",
              " 'tambahnya',\n",
              " 'tampak',\n",
              " 'tampaknya',\n",
              " 'tandas',\n",
              " 'tandasnya',\n",
              " 'tanpa',\n",
              " 'tanya',\n",
              " 'tanyakan',\n",
              " 'tanyanya',\n",
              " 'tapi',\n",
              " 'tegas',\n",
              " 'tegasnya',\n",
              " 'telah',\n",
              " 'tempat',\n",
              " 'tengah',\n",
              " 'tentang',\n",
              " 'tentu',\n",
              " 'tentulah',\n",
              " 'tentunya',\n",
              " 'tepat',\n",
              " 'terakhir',\n",
              " 'terasa',\n",
              " 'terbanyak',\n",
              " 'terdahulu',\n",
              " 'terdapat',\n",
              " 'terdiri',\n",
              " 'terhadap',\n",
              " 'terhadapnya',\n",
              " 'teringat',\n",
              " 'teringat-ingat',\n",
              " 'terjadi',\n",
              " 'terjadilah',\n",
              " 'terjadinya',\n",
              " 'terkira',\n",
              " 'terlalu',\n",
              " 'terlebih',\n",
              " 'terlihat',\n",
              " 'termasuk',\n",
              " 'ternyata',\n",
              " 'tersampaikan',\n",
              " 'tersebut',\n",
              " 'tersebutlah',\n",
              " 'tertentu',\n",
              " 'tertuju',\n",
              " 'terus',\n",
              " 'terutama',\n",
              " 'tetap',\n",
              " 'tetapi',\n",
              " 'tiap',\n",
              " 'tiba',\n",
              " 'tiba-tiba',\n",
              " 'tidak',\n",
              " 'tidakkah',\n",
              " 'tidaklah',\n",
              " 'tiga',\n",
              " 'tinggi',\n",
              " 'toh',\n",
              " 'tunjuk',\n",
              " 'turut',\n",
              " 'tutur',\n",
              " 'tuturnya',\n",
              " 'ucap',\n",
              " 'ucapnya',\n",
              " 'ujar',\n",
              " 'ujarnya',\n",
              " 'umum',\n",
              " 'umumnya',\n",
              " 'ungkap',\n",
              " 'ungkapnya',\n",
              " 'untuk',\n",
              " 'usah',\n",
              " 'usai',\n",
              " 'waduh',\n",
              " 'wah',\n",
              " 'wahai',\n",
              " 'waktu',\n",
              " 'waktunya',\n",
              " 'walau',\n",
              " 'walaupun',\n",
              " 'wong',\n",
              " 'yaitu',\n",
              " 'yakin',\n",
              " 'yakni',\n",
              " 'yang']"
            ]
          },
          "metadata": {},
          "execution_count": 19
        }
      ]
    },
    {
      "cell_type": "code",
      "source": [
        "stopwords.words('english')"
      ],
      "metadata": {
        "id": "OCfTl0tu9MvN"
      },
      "execution_count": null,
      "outputs": []
    },
    {
      "cell_type": "code",
      "source": [
        "tokens = [token for token in tokens if token not in stopwords.words('indonesian')]\n",
        "tokens"
      ],
      "metadata": {
        "id": "m9HQXDaV9Tbq",
        "outputId": "f943109a-ba8d-4211-bc74-038fe39814da",
        "colab": {
          "base_uri": "https://localhost:8080/"
        }
      },
      "execution_count": 21,
      "outputs": [
        {
          "output_type": "execute_result",
          "data": {
            "text/plain": [
              "['Halo',\n",
              " 'nama',\n",
              " 'Ridwan',\n",
              " 'Saya',\n",
              " 'makan',\n",
              " 'bakso',\n",
              " 'harganya',\n",
              " '25',\n",
              " '000',\n",
              " 'makan',\n",
              " 'sore']"
            ]
          },
          "metadata": {},
          "execution_count": 21
        }
      ]
    },
    {
      "cell_type": "markdown",
      "source": [
        "# BOW dan Tf-Idf"
      ],
      "metadata": {
        "id": "VZnwh0zT-FWQ"
      }
    },
    {
      "cell_type": "markdown",
      "source": [
        "- NAH KALO SI IDF TADI ITU DIA PUNYA KATA YANG MUNCUL ONLY DI 1 DOC YAUDA BOBOTNYA TINGGI\n",
        "-TAPI KALO DI TF-IDF ITU RADA BEDA JADI KATA YG SRING MUNCUL DLM SATU DOK TP JARANG MUNCUL DLM DOKUMEN LAIN YAUDAH ITU BOBOTNYA LEBI TINGGI"
      ],
      "metadata": {
        "id": "PDt3mqrxBPAQ"
      }
    },
    {
      "cell_type": "markdown",
      "source": [
        "misal ada kata kata spt ini\n",
        "\n",
        "- docs 1 = si vian mengikuti gemastik tahun ini dan si alan mengikuti satria data\n",
        "- docs 2 = si alan mengikuti gemastik tahun ini dan si vian mengikuti satria data\n",
        "arti ya itu tentu beda\n",
        "\n",
        "ngedefine n-gram misal nih n-gram 3\n",
        "- si vian mengikuti, gemastik tahun ini, dan si alan, mengikuti....<br>\n",
        "yauda berati n-gramnya butuh 4\n",
        "- si vian mengikuti gemastik "
      ],
      "metadata": {
        "id": "EqX14vr6atIQ"
      }
    }
  ]
}